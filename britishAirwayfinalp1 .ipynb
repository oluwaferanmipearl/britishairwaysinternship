{
 "cells": [
  {
   "cell_type": "markdown",
   "id": "8e84c6de",
   "metadata": {},
   "source": [
    "# Data Gathering"
   ]
  },
  {
   "cell_type": "code",
   "execution_count": 1,
   "id": "b420c72b",
   "metadata": {},
   "outputs": [],
   "source": [
    "#imports\n",
    "\n",
    "import pandas as pd\n",
    "import numpy as np\n",
    "from bs4 import BeautifulSoup\n",
    "import requests "
   ]
  },
  {
   "cell_type": "code",
   "execution_count": 2,
   "id": "cc951bc6",
   "metadata": {},
   "outputs": [],
   "source": [
    "#create an empty list to collect all reviews\n",
    "reviews  = []\n",
    "\n",
    "#create an empty list to collect rating stars\n",
    "stars = []\n",
    "\n",
    "#create an empty list to collect country the reviewer is from\n",
    "country = []\n",
    "\n",
    "dateflown = []"
   ]
  },
  {
   "cell_type": "code",
   "execution_count": 3,
   "id": "0fe5b78f",
   "metadata": {},
   "outputs": [
    {
     "name": "stdout",
     "output_type": "stream",
     "text": [
      "Error on page 33\n",
      "Error on page 34\n",
      "Error on page 34\n",
      "Error on page 36\n",
      "Error on page 37\n"
     ]
    }
   ],
   "source": [
    "for i in range(1, 38):\n",
    "    page = requests.get(f\"https://www.airlinequality.com/airline-reviews/british-airways/page/{i}/?sortby=post_date%3ADesc&pagesize=100\")\n",
    "    \n",
    "    \n",
    "    soup = BeautifulSoup(page.content, \"html5\")\n",
    "    \n",
    "    #reviews\n",
    "    for item in soup.find_all(\"div\", class_=\"text_content\"):\n",
    "        reviews.append(item.text)\n",
    "    \n",
    "    #stars\n",
    "    for item in soup.find_all(\"div\", class_ = \"rating-10\"):\n",
    "        try:\n",
    "            stars.append(item.span.text)\n",
    "        except:\n",
    "            print(f\"Error on page {i}\")\n",
    "            stars.append(\"None\")\n",
    "            \n",
    "    #stars       \n",
    "    for sibling in soup.find_all('td', class_='review-rating-header date_flown'):\n",
    "        try:\n",
    "            dateflown.append(sibling.find_next_sibling('td').text.strip())\n",
    "        except AttributeError:\n",
    "            print(f\"Error on page {i}\")\n",
    "            dateflown.append(\"None\")\n",
    "            \n",
    "        \n",
    "    #country\n",
    "    for item in soup.find_all(\"h3\"):\n",
    "        country.append(item.span.next_sibling.text.strip(\" ()\"))"
   ]
  },
  {
   "cell_type": "code",
   "execution_count": 4,
   "id": "cd7fcac9",
   "metadata": {},
   "outputs": [],
   "source": [
    "reviews = reviews[:3007]"
   ]
  },
  {
   "cell_type": "code",
   "execution_count": 5,
   "id": "ebd5b399",
   "metadata": {},
   "outputs": [],
   "source": [
    "country = country[:3007]"
   ]
  },
  {
   "cell_type": "code",
   "execution_count": 6,
   "id": "81310281",
   "metadata": {},
   "outputs": [],
   "source": [
    "stars = stars[:3007]"
   ]
  },
  {
   "cell_type": "code",
   "execution_count": 7,
   "id": "333cabcf",
   "metadata": {},
   "outputs": [],
   "source": [
    "df = pd.DataFrame({\"reviews\":reviews,\"stars\": stars, \"dateflown\":  dateflown, \"country\": country})"
   ]
  },
  {
   "cell_type": "code",
   "execution_count": 8,
   "id": "e6fa3f89",
   "metadata": {},
   "outputs": [
    {
     "data": {
      "text/html": [
       "<div>\n",
       "<style scoped>\n",
       "    .dataframe tbody tr th:only-of-type {\n",
       "        vertical-align: middle;\n",
       "    }\n",
       "\n",
       "    .dataframe tbody tr th {\n",
       "        vertical-align: top;\n",
       "    }\n",
       "\n",
       "    .dataframe thead th {\n",
       "        text-align: right;\n",
       "    }\n",
       "</style>\n",
       "<table border=\"1\" class=\"dataframe\">\n",
       "  <thead>\n",
       "    <tr style=\"text-align: right;\">\n",
       "      <th></th>\n",
       "      <th>reviews</th>\n",
       "      <th>stars</th>\n",
       "      <th>dateflown</th>\n",
       "      <th>country</th>\n",
       "    </tr>\n",
       "  </thead>\n",
       "  <tbody>\n",
       "    <tr>\n",
       "      <th>0</th>\n",
       "      <td>✅ Trip Verified |  We chose Rotterdam and Lond...</td>\n",
       "      <td>\\n\\t\\t\\t\\t\\t\\t\\t\\t\\t\\t\\t\\t\\t5</td>\n",
       "      <td>March 2024</td>\n",
       "      <td>Netherlands</td>\n",
       "    </tr>\n",
       "    <tr>\n",
       "      <th>1</th>\n",
       "      <td>✅ Trip Verified | The entire booking and ticke...</td>\n",
       "      <td>6</td>\n",
       "      <td>April 2024</td>\n",
       "      <td>United States</td>\n",
       "    </tr>\n",
       "    <tr>\n",
       "      <th>2</th>\n",
       "      <td>Not Verified |   British Airways cancelled my ...</td>\n",
       "      <td>1</td>\n",
       "      <td>January 2024</td>\n",
       "      <td>United States</td>\n",
       "    </tr>\n",
       "    <tr>\n",
       "      <th>3</th>\n",
       "      <td>Not Verified | I wanted to write this review s...</td>\n",
       "      <td>1</td>\n",
       "      <td>March 2024</td>\n",
       "      <td>United States</td>\n",
       "    </tr>\n",
       "    <tr>\n",
       "      <th>4</th>\n",
       "      <td>✅ Trip Verified |  Check in fast and friendly....</td>\n",
       "      <td>10</td>\n",
       "      <td>March 2024</td>\n",
       "      <td>United Kingdom</td>\n",
       "    </tr>\n",
       "  </tbody>\n",
       "</table>\n",
       "</div>"
      ],
      "text/plain": [
       "                                             reviews  \\\n",
       "0  ✅ Trip Verified |  We chose Rotterdam and Lond...   \n",
       "1  ✅ Trip Verified | The entire booking and ticke...   \n",
       "2  Not Verified |   British Airways cancelled my ...   \n",
       "3  Not Verified | I wanted to write this review s...   \n",
       "4  ✅ Trip Verified |  Check in fast and friendly....   \n",
       "\n",
       "                           stars     dateflown         country  \n",
       "0  \\n\\t\\t\\t\\t\\t\\t\\t\\t\\t\\t\\t\\t\\t5    March 2024     Netherlands  \n",
       "1                              6    April 2024   United States  \n",
       "2                              1  January 2024   United States  \n",
       "3                              1    March 2024   United States  \n",
       "4                             10    March 2024  United Kingdom  "
      ]
     },
     "execution_count": 8,
     "metadata": {},
     "output_type": "execute_result"
    }
   ],
   "source": [
    "df.head()\n"
   ]
  },
  {
   "cell_type": "markdown",
   "id": "5a346805",
   "metadata": {},
   "source": [
    "# Data Cleaning"
   ]
  },
  {
   "cell_type": "code",
   "execution_count": 9,
   "id": "deb51f1c",
   "metadata": {},
   "outputs": [
    {
     "data": {
      "text/html": [
       "<div>\n",
       "<style scoped>\n",
       "    .dataframe tbody tr th:only-of-type {\n",
       "        vertical-align: middle;\n",
       "    }\n",
       "\n",
       "    .dataframe tbody tr th {\n",
       "        vertical-align: top;\n",
       "    }\n",
       "\n",
       "    .dataframe thead th {\n",
       "        text-align: right;\n",
       "    }\n",
       "</style>\n",
       "<table border=\"1\" class=\"dataframe\">\n",
       "  <thead>\n",
       "    <tr style=\"text-align: right;\">\n",
       "      <th></th>\n",
       "      <th>reviews</th>\n",
       "      <th>stars</th>\n",
       "      <th>dateflown</th>\n",
       "      <th>country</th>\n",
       "    </tr>\n",
       "  </thead>\n",
       "  <tbody>\n",
       "    <tr>\n",
       "      <th>count</th>\n",
       "      <td>3007</td>\n",
       "      <td>3007</td>\n",
       "      <td>3007</td>\n",
       "      <td>3007</td>\n",
       "    </tr>\n",
       "    <tr>\n",
       "      <th>unique</th>\n",
       "      <td>3005</td>\n",
       "      <td>11</td>\n",
       "      <td>117</td>\n",
       "      <td>69</td>\n",
       "    </tr>\n",
       "    <tr>\n",
       "      <th>top</th>\n",
       "      <td>British Airways from Tampa to Gatwick on Boein...</td>\n",
       "      <td>1</td>\n",
       "      <td>August 2015</td>\n",
       "      <td>United Kingdom</td>\n",
       "    </tr>\n",
       "    <tr>\n",
       "      <th>freq</th>\n",
       "      <td>2</td>\n",
       "      <td>795</td>\n",
       "      <td>83</td>\n",
       "      <td>1856</td>\n",
       "    </tr>\n",
       "  </tbody>\n",
       "</table>\n",
       "</div>"
      ],
      "text/plain": [
       "                                                  reviews stars    dateflown  \\\n",
       "count                                                3007  3007         3007   \n",
       "unique                                               3005    11          117   \n",
       "top     British Airways from Tampa to Gatwick on Boein...     1  August 2015   \n",
       "freq                                                    2   795           83   \n",
       "\n",
       "               country  \n",
       "count             3007  \n",
       "unique              69  \n",
       "top     United Kingdom  \n",
       "freq              1856  "
      ]
     },
     "execution_count": 9,
     "metadata": {},
     "output_type": "execute_result"
    }
   ],
   "source": [
    "df.describe()"
   ]
  },
  {
   "cell_type": "code",
   "execution_count": 10,
   "id": "0456c533",
   "metadata": {},
   "outputs": [],
   "source": [
    "df['reviews'] = df['reviews'].str.replace('✅ Trip Verified | ', '', regex=False).str.replace('Not Verified | ', '', regex=False)\n"
   ]
  },
  {
   "cell_type": "code",
   "execution_count": 18,
   "id": "292b71c8",
   "metadata": {},
   "outputs": [
    {
     "data": {
      "text/html": [
       "<div>\n",
       "<style scoped>\n",
       "    .dataframe tbody tr th:only-of-type {\n",
       "        vertical-align: middle;\n",
       "    }\n",
       "\n",
       "    .dataframe tbody tr th {\n",
       "        vertical-align: top;\n",
       "    }\n",
       "\n",
       "    .dataframe thead th {\n",
       "        text-align: right;\n",
       "    }\n",
       "</style>\n",
       "<table border=\"1\" class=\"dataframe\">\n",
       "  <thead>\n",
       "    <tr style=\"text-align: right;\">\n",
       "      <th></th>\n",
       "      <th>reviews</th>\n",
       "      <th>stars</th>\n",
       "      <th>dateflown</th>\n",
       "      <th>country</th>\n",
       "    </tr>\n",
       "  </thead>\n",
       "  <tbody>\n",
       "    <tr>\n",
       "      <th>0</th>\n",
       "      <td>We chose Rotterdam and London City airport be...</td>\n",
       "      <td>5</td>\n",
       "      <td>Mar/2024</td>\n",
       "      <td>Netherlands</td>\n",
       "    </tr>\n",
       "    <tr>\n",
       "      <th>1</th>\n",
       "      <td>The entire booking and ticketing experience ha...</td>\n",
       "      <td>6</td>\n",
       "      <td>Apr/2024</td>\n",
       "      <td>United States</td>\n",
       "    </tr>\n",
       "    <tr>\n",
       "      <th>2</th>\n",
       "      <td>British Airways cancelled my flight less tha...</td>\n",
       "      <td>1</td>\n",
       "      <td>Jan/2024</td>\n",
       "      <td>United States</td>\n",
       "    </tr>\n",
       "    <tr>\n",
       "      <th>3</th>\n",
       "      <td>I wanted to write this review so I could give ...</td>\n",
       "      <td>1</td>\n",
       "      <td>Mar/2024</td>\n",
       "      <td>United States</td>\n",
       "    </tr>\n",
       "    <tr>\n",
       "      <th>4</th>\n",
       "      <td>Check in fast and friendly. Security a breeze...</td>\n",
       "      <td>10</td>\n",
       "      <td>Mar/2024</td>\n",
       "      <td>United Kingdom</td>\n",
       "    </tr>\n",
       "    <tr>\n",
       "      <th>...</th>\n",
       "      <td>...</td>\n",
       "      <td>...</td>\n",
       "      <td>...</td>\n",
       "      <td>...</td>\n",
       "    </tr>\n",
       "    <tr>\n",
       "      <th>3002</th>\n",
       "      <td>We were boarded quickly but suffered a weather...</td>\n",
       "      <td>2</td>\n",
       "      <td>May/2015</td>\n",
       "      <td>United Kingdom</td>\n",
       "    </tr>\n",
       "    <tr>\n",
       "      <th>3003</th>\n",
       "      <td>Terrible. Flight time is well over 2 hours. Se...</td>\n",
       "      <td>6</td>\n",
       "      <td>May/2015</td>\n",
       "      <td>United Kingdom</td>\n",
       "    </tr>\n",
       "    <tr>\n",
       "      <th>3004</th>\n",
       "      <td>28th May 2015, LHR-DEN, B747, Seat 29A.  Paid ...</td>\n",
       "      <td>1</td>\n",
       "      <td>Jun/2015</td>\n",
       "      <td>United Kingdom</td>\n",
       "    </tr>\n",
       "    <tr>\n",
       "      <th>3005</th>\n",
       "      <td>9/6/15, ORD-LHR, 777-300, Club World, Seat 13b...</td>\n",
       "      <td>8</td>\n",
       "      <td>Jun/2015</td>\n",
       "      <td>United Kingdom</td>\n",
       "    </tr>\n",
       "    <tr>\n",
       "      <th>3006</th>\n",
       "      <td>10/6/15, LHR-GLA, A321, Seat 9A.  Was able to ...</td>\n",
       "      <td>8</td>\n",
       "      <td>May/2015</td>\n",
       "      <td>United Kingdom</td>\n",
       "    </tr>\n",
       "  </tbody>\n",
       "</table>\n",
       "<p>3007 rows × 4 columns</p>\n",
       "</div>"
      ],
      "text/plain": [
       "                                                reviews stars dateflown  \\\n",
       "0      We chose Rotterdam and London City airport be...     5  Mar/2024   \n",
       "1     The entire booking and ticketing experience ha...     6  Apr/2024   \n",
       "2       British Airways cancelled my flight less tha...     1  Jan/2024   \n",
       "3     I wanted to write this review so I could give ...     1  Mar/2024   \n",
       "4      Check in fast and friendly. Security a breeze...    10  Mar/2024   \n",
       "...                                                 ...   ...       ...   \n",
       "3002  We were boarded quickly but suffered a weather...     2  May/2015   \n",
       "3003  Terrible. Flight time is well over 2 hours. Se...     6  May/2015   \n",
       "3004  28th May 2015, LHR-DEN, B747, Seat 29A.  Paid ...     1  Jun/2015   \n",
       "3005  9/6/15, ORD-LHR, 777-300, Club World, Seat 13b...     8  Jun/2015   \n",
       "3006  10/6/15, LHR-GLA, A321, Seat 9A.  Was able to ...     8  May/2015   \n",
       "\n",
       "             country  \n",
       "0        Netherlands  \n",
       "1      United States  \n",
       "2      United States  \n",
       "3      United States  \n",
       "4     United Kingdom  \n",
       "...              ...  \n",
       "3002  United Kingdom  \n",
       "3003  United Kingdom  \n",
       "3004  United Kingdom  \n",
       "3005  United Kingdom  \n",
       "3006  United Kingdom  \n",
       "\n",
       "[3007 rows x 4 columns]"
      ]
     },
     "execution_count": 18,
     "metadata": {},
     "output_type": "execute_result"
    }
   ],
   "source": [
    "df"
   ]
  },
  {
   "cell_type": "code",
   "execution_count": 12,
   "id": "bfa5002e",
   "metadata": {},
   "outputs": [
    {
     "data": {
      "text/plain": [
       "array(['\\n\\t\\t\\t\\t\\t\\t\\t\\t\\t\\t\\t\\t\\t5', '6', '1', '10', '7', '3', '4',\n",
       "       '8', '5', '9', '2'], dtype=object)"
      ]
     },
     "execution_count": 12,
     "metadata": {},
     "output_type": "execute_result"
    }
   ],
   "source": [
    " df['stars'].unique()"
   ]
  },
  {
   "cell_type": "code",
   "execution_count": 13,
   "id": "3f091c1a",
   "metadata": {},
   "outputs": [],
   "source": [
    "df['stars'] = df['stars'].str.replace('\\n\\t\\t\\t\\t\\t\\t\\t\\t\\t\\t\\t\\t\\t5', '5', regex=False)"
   ]
  },
  {
   "cell_type": "code",
   "execution_count": 15,
   "id": "f3cbb4ea",
   "metadata": {},
   "outputs": [
    {
     "name": "stderr",
     "output_type": "stream",
     "text": [
      "C:\\Users\\pearl\\AppData\\Local\\Temp\\ipykernel_25552\\585443733.py:1: UserWarning: Could not infer format, so each element will be parsed individually, falling back to `dateutil`. To ensure parsing is consistent and as-expected, please specify a format.\n",
      "  df['dateflown'] = pd.to_datetime(df['dateflown'])  # Ensure it's in datetime format\n"
     ]
    }
   ],
   "source": [
    "df['dateflown'] = pd.to_datetime(df['dateflown'])  # Ensure it's in datetime format\n",
    "df['dateflown'] = df['dateflown'].dt.strftime('%b/%Y')  # Convert to \"Month/Year\" format\n"
   ]
  },
  {
   "cell_type": "code",
   "execution_count": 16,
   "id": "e21fecf5",
   "metadata": {},
   "outputs": [
    {
     "data": {
      "text/plain": [
       "reviews      object\n",
       "stars        object\n",
       "dateflown    object\n",
       "country      object\n",
       "dtype: object"
      ]
     },
     "execution_count": 16,
     "metadata": {},
     "output_type": "execute_result"
    }
   ],
   "source": [
    "df.dtypes"
   ]
  },
  {
   "cell_type": "code",
   "execution_count": 17,
   "id": "6796efe9",
   "metadata": {},
   "outputs": [
    {
     "data": {
      "text/plain": [
       "False"
      ]
     },
     "execution_count": 17,
     "metadata": {},
     "output_type": "execute_result"
    }
   ],
   "source": [
    "df.isnull().values.any()\n"
   ]
  },
  {
   "cell_type": "code",
   "execution_count": 19,
   "id": "04f979fe",
   "metadata": {},
   "outputs": [],
   "source": [
    "df.to_csv('britishthing.csv', index=False)\n"
   ]
  },
  {
   "cell_type": "code",
   "execution_count": null,
   "id": "e7beb70e",
   "metadata": {},
   "outputs": [],
   "source": []
  }
 ],
 "metadata": {
  "kernelspec": {
   "display_name": "Python 3 (ipykernel)",
   "language": "python",
   "name": "python3"
  },
  "language_info": {
   "codemirror_mode": {
    "name": "ipython",
    "version": 3
   },
   "file_extension": ".py",
   "mimetype": "text/x-python",
   "name": "python",
   "nbconvert_exporter": "python",
   "pygments_lexer": "ipython3",
   "version": "3.11.5"
  }
 },
 "nbformat": 4,
 "nbformat_minor": 5
}
